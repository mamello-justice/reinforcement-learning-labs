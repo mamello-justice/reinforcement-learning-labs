{
 "cells": [
  {
   "cell_type": "markdown",
   "id": "b51a239e-ed10-49be-94db-8f8c19761850",
   "metadata": {},
   "source": [
    "# COMS4061A - Reinforcement Learning\n",
    "\n",
    "## Dynamic Programming\n",
    "\n",
    "- Mamello Seboholi [1851317]"
   ]
  },
  {
   "cell_type": "markdown",
   "id": "bc15a639-9a59-48eb-956f-8aae31700cc4",
   "metadata": {},
   "source": [
    "### Imports"
   ]
  },
  {
   "cell_type": "code",
   "execution_count": 3,
   "id": "d01c32a0-fc8a-4f1c-b286-1d46a96c9774",
   "metadata": {},
   "outputs": [],
   "source": [
    "import numpy as np\n",
    "import matplotlib.pyplot as plt\n",
    "\n",
    "import typing as types\n",
    "import numpy._typing as np_types"
   ]
  },
  {
   "cell_type": "markdown",
   "id": "910b1f98-efa6-459d-8d80-e469fd84d11c",
   "metadata": {},
   "source": [
    "### MDP"
   ]
  },
  {
   "cell_type": "code",
   "execution_count": 96,
   "id": "d7577b91",
   "metadata": {},
   "outputs": [],
   "source": [
    "class GridMPD:\n",
    "    def __init__(self, shape: tuple[int, int], transition_reward = 0):\n",
    "        grid_size = np.prod(shape)\n",
    "        \n",
    "        self.P = dict()\n",
    "         \n",
    "        self.P[\"prob\"] = np.full((grid_size, 4), 1)\n",
    "        self.P[\"next_state\"] = GridMPD.generate_next_state(shape)\n",
    "        self.P[\"reward\"] = np.full((grid_size, 4), transition_reward)\n",
    "        \n",
    "    @staticmethod\n",
    "    def generate_next_state(shape: tuple[int, int]):\n",
    "        grid_size = np.prod(shape)\n",
    "        \n",
    "        state = np.arange(grid_size).reshape(shape)\n",
    "        next_state = np.tile(state, (4,1)).reshape(shape + (4,)).transpose()\n",
    "        \n",
    "        next_state[1:, :, 0] -= shape[0] # Up\n",
    "        next_state[:, :-1, 1] += 1 # Right\n",
    "        next_state[:-1, :, 2] += shape[0] # Down\n",
    "        next_state[:, 1:, 3] -= 1 # Left\n",
    "        \n",
    "        return next_state.reshape((-1, 4))"
   ]
  },
  {
   "cell_type": "code",
   "execution_count": 91,
   "id": "bf5b72f0",
   "metadata": {},
   "outputs": [],
   "source": [
    "def random_policy(shape: tuple[int, int]):\n",
    "    return np.full(np.prod(shape), 0.25)"
   ]
  },
  {
   "cell_type": "code",
   "execution_count": 97,
   "id": "e2a85d0d",
   "metadata": {},
   "outputs": [],
   "source": [
    "grid_shape = (4, 4)\n",
    "grid_size = np.prod(grid_shape)\n",
    "\n",
    "env = GridMPD(shape=grid_shape, transition_reward=-1)\n",
    "\n",
    "goal_state = 0\n",
    "\n",
    "policy = random_policy(grid_shape)"
   ]
  }
 ],
 "metadata": {
  "interpreter": {
   "hash": "e61cc42b6304d4e0c637c9636452a0ec6d6bdaba357500af9c833df55f9ee147"
  },
  "kernelspec": {
   "display_name": "Python 3.10.4 ('.venv': venv)",
   "language": "python",
   "name": "python3"
  },
  "language_info": {
   "codemirror_mode": {
    "name": "ipython",
    "version": 3
   },
   "file_extension": ".py",
   "mimetype": "text/x-python",
   "name": "python",
   "nbconvert_exporter": "python",
   "pygments_lexer": "ipython3",
   "version": "3.10.4"
  }
 },
 "nbformat": 4,
 "nbformat_minor": 5
}
