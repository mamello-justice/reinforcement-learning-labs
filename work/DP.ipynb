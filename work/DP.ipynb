{
 "cells": [
  {
   "cell_type": "markdown",
   "id": "b51a239e-ed10-49be-94db-8f8c19761850",
   "metadata": {},
   "source": [
    "# COMS4061A - Reinforcement Learning\n",
    "\n",
    "## Dynamic Programming\n",
    "\n",
    "- Mamello Seboholi [1851317]\n"
   ]
  },
  {
   "cell_type": "markdown",
   "id": "bc15a639-9a59-48eb-956f-8aae31700cc4",
   "metadata": {},
   "source": [
    "### Imports\n"
   ]
  },
  {
   "cell_type": "code",
   "execution_count": 17,
   "id": "d01c32a0-fc8a-4f1c-b286-1d46a96c9774",
   "metadata": {},
   "outputs": [],
   "source": [
    "import numpy as np\n",
    "import matplotlib.pyplot as plt"
   ]
  },
  {
   "cell_type": "markdown",
   "id": "910b1f98-efa6-459d-8d80-e469fd84d11c",
   "metadata": {},
   "source": [
    "### MDP\n"
   ]
  },
  {
   "cell_type": "code",
   "execution_count": 18,
   "id": "d7577b91",
   "metadata": {},
   "outputs": [],
   "source": [
    "class GridMPD:\n",
    "    def __init__(self, shape: tuple[int, int], transition_reward: int, terminal_reward: int, terminal_states: list[int]):\n",
    "        self.grid_size = np.prod(shape)\n",
    "\n",
    "        self.P = dict()\n",
    "\n",
    "        self.P[\"prob\"] = np.full((self.grid_size, 4), 1)\n",
    "        self.P[\"next_state\"] = GridMPD.generate_next_state(shape, terminal_states)\n",
    "        self.P[\"reward\"] = np.full((self.grid_size, 4), transition_reward)\n",
    "        self.P[\"reward\"][terminal_states, :] = terminal_reward\n",
    "\n",
    "    @staticmethod\n",
    "    def generate_next_state(shape: tuple[int, int], terminal_states: list[int]):\n",
    "        grid_size = np.prod(shape)\n",
    "        width = shape[0]\n",
    "\n",
    "        state = np.arange(grid_size)\n",
    "        next_state = np.tile(state, 4).reshape(width, -1).transpose().reshape(shape + (-1,))\n",
    "\n",
    "        next_state[1:, :, 0] -= width  # Up\n",
    "        next_state[:, :-1, 1] += 1 # Right\n",
    "        next_state[:-1, :, 2] += width # Down\n",
    "        next_state[:, 1:, 3] -= 1 # Left\n",
    "        \n",
    "        next_state = next_state.reshape((-1, 4))\n",
    "        \n",
    "        for terminal_state in terminal_states:\n",
    "            next_state[terminal_state, :] = terminal_state\n",
    "\n",
    "        return next_state\n"
   ]
  },
  {
   "cell_type": "code",
   "execution_count": 19,
   "id": "bba3fde7",
   "metadata": {},
   "outputs": [],
   "source": [
    "def policy_evaluation(env: GridMPD, policy, discount_factor = 1, theta = 0.01):\n",
    "    V = np.zeros(env.grid_size)\n",
    "    \n",
    "    prob, next_state, reward = env.P['prob'], env.P['next_state'], env.P['reward']\n",
    "    \n",
    "    count = 0\n",
    "\n",
    "    while True:\n",
    "        delta = 0.0\n",
    "        count += 1\n",
    "\n",
    "        for s in range(env.grid_size):\n",
    "            v = V[s]\n",
    "            \n",
    "            V[s] = (policy[s] * prob[s]).dot(reward[s] + discount_factor * V[next_state[s]])\n",
    "            \n",
    "            delta = np.maximum(delta, abs(v - V[s]))\n",
    "\n",
    "        if delta < theta:\n",
    "            break\n",
    "    return V, count\n"
   ]
  },
  {
   "cell_type": "code",
   "execution_count": 20,
   "id": "56242690",
   "metadata": {},
   "outputs": [],
   "source": [
    "def policy_evaluation_2_array(env: GridMPD, policy, discount_factor = 1, theta = 0.01):\n",
    "    V = np.zeros(env.grid_size)\n",
    "    \n",
    "    prob, next_state, reward = env.P['prob'], env.P['next_state'], env.P['reward']\n",
    "    \n",
    "    count = 0\n",
    "\n",
    "    while True:\n",
    "        delta = 0.0\n",
    "        count += 1\n",
    "\n",
    "        V_copy = V\n",
    "        for s in range(env.grid_size):\n",
    "            v = V_copy[s]\n",
    "            \n",
    "            # Note still updating in place, however we use the original values in the copied V for\n",
    "            # calculations... Skips the reassignment step\n",
    "            V[s] = policy[s].dot(prob[s] * (reward[s] + discount_factor * V_copy[next_state[s]]))\n",
    "            \n",
    "            delta = np.maximum(delta, abs(v - V[s]))\n",
    "\n",
    "        if delta < theta:\n",
    "            break\n",
    "    return V, count"
   ]
  },
  {
   "cell_type": "code",
   "execution_count": 21,
   "id": "bf5b72f0",
   "metadata": {},
   "outputs": [],
   "source": [
    "def random_policy(shape: tuple[int, int]):\n",
    "    return np.full((np.prod(shape), 4), 0.25)"
   ]
  },
  {
   "cell_type": "code",
   "execution_count": 22,
   "id": "e2a85d0d",
   "metadata": {},
   "outputs": [],
   "source": [
    "grid_shape = (4, 4)\n",
    "grid_size = np.prod(grid_shape)\n",
    "\n",
    "env = GridMPD(shape=grid_shape, transition_reward=-1,\n",
    "              terminal_reward=0, terminal_states=[0])\n",
    "\n",
    "policy = random_policy(grid_shape)\n"
   ]
  },
  {
   "cell_type": "code",
   "execution_count": 23,
   "id": "0a87225c",
   "metadata": {},
   "outputs": [
    {
     "data": {
      "text/plain": [
       "<matplotlib.image.AxesImage at 0x28a10916530>"
      ]
     },
     "execution_count": 23,
     "metadata": {},
     "output_type": "execute_result"
    },
    {
     "data": {
      "image/png": "[encoded data removed]",
      "text/plain": [
       "<Figure size 432x288 with 1 Axes>"
      ]
     },
     "metadata": {
      "needs_background": "light"
     },
     "output_type": "display_data"
    }
   ],
   "source": [
    "V_1, iterations_1 = policy_evaluation(env, policy)\n",
    "plt.axis('off')\n",
    "plt.imshow(V_1.reshape(grid_shape))"
   ]
  },
  {
   "cell_type": "code",
   "execution_count": 24,
   "id": "4bf2cbf5",
   "metadata": {},
   "outputs": [
    {
     "data": {
      "text/plain": [
       "<matplotlib.image.AxesImage at 0x28a109140a0>"
      ]
     },
     "execution_count": 24,
     "metadata": {},
     "output_type": "execute_result"
    },
    {
     "data": {
      "image/png": "[encoded data removed]",
      "text/plain": [
       "<Figure size 432x288 with 1 Axes>"
      ]
     },
     "metadata": {
      "needs_background": "light"
     },
     "output_type": "display_data"
    }
   ],
   "source": [
    "V_2, iterations_2 = policy_evaluation_2_array(env, policy)\n",
    "plt.axis('off')\n",
    "plt.imshow(V_2.reshape(grid_shape))"
   ]
  },
  {
   "cell_type": "code",
   "execution_count": 25,
   "id": "d9798c8e",
   "metadata": {},
   "outputs": [],
   "source": [
    "discount_factors = np.logspace(-0.2, 0, num=20)\n",
    "y_axis = []\n",
    "y_axis_2_array = []\n",
    "\n",
    "for discount in discount_factors:\n",
    "    y_axis.append(policy_evaluation(env, policy, discount)[1])\n",
    "    y_axis_2_array.append(policy_evaluation_2_array(env, policy, discount)[1])"
   ]
  },
  {
   "cell_type": "code",
   "execution_count": 26,
   "id": "8a3c73c2",
   "metadata": {},
   "outputs": [
    {
     "data": {
      "image/png": "[encoded data removed]",
      "text/plain": [
       "<Figure size 432x288 with 1 Axes>"
      ]
     },
     "metadata": {
      "needs_background": "light"
     },
     "output_type": "display_data"
    }
   ],
   "source": [
    "plt.plot(discount_factors, y_axis, label=\"In-place\")\n",
    "plt.plot(discount_factors, y_axis_2_array, label=\"Two arrays\")\n",
    "plt.title(\"No. of iterations required for convergence over a range of discount factors\")\n",
    "plt.ylabel(\"Number of iterations\")\n",
    "plt.xlabel(\"Discount factor\")\n",
    "plt.legend()\n",
    "plt.show()"
   ]
  }
 ],
 "metadata": {
  "interpreter": {
   "hash": "e61cc42b6304d4e0c637c9636452a0ec6d6bdaba357500af9c833df55f9ee147"
  },
  "kernelspec": {
   "display_name": "Python 3.10.4 ('.venv': venv)",
   "language": "python",
   "name": "python3"
  },
  "language_info": {
   "codemirror_mode": {
    "name": "ipython",
    "version": 3
   },
   "file_extension": ".py",
   "mimetype": "text/x-python",
   "name": "python",
   "nbconvert_exporter": "python",
   "pygments_lexer": "ipython3",
   "version": "3.10.4"
  }
 },
 "nbformat": 4,
 "nbformat_minor": 5
}
