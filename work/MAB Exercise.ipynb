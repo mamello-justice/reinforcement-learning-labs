{
 "cells": [
  {
   "cell_type": "markdown",
   "id": "4f72c294-866f-453c-b882-5c4bce7113b2",
   "metadata": {},
   "source": [
    "# COMS4061A - Reinforcement Learning\n",
    "\n",
    "## Multi-Armed Bandits - Exercise\n",
    "\n",
    "- Mamello Seboholi [1851317]"
   ]
  },
  {
   "cell_type": "markdown",
   "id": "920a1569-e62b-4371-8116-fcb2d0200e33",
   "metadata": {
    "tags": []
   },
   "source": [
    "### Imports"
   ]
  },
  {
   "cell_type": "code",
   "execution_count": 73,
   "id": "e967a0cd-2308-4e69-8587-8f8f4311d03b",
   "metadata": {},
   "outputs": [],
   "source": [
    "import math\n",
    "import numpy as np\n",
    "import matplotlib.pyplot as plt\n",
    "from abc import ABC, abstractmethod\n",
    "from scipy.stats import norm\n",
    "%matplotlib inline"
   ]
  },
  {
   "cell_type": "markdown",
   "id": "e2a359f5-3272-48e6-8131-64ea3fe6c1db",
   "metadata": {
    "tags": []
   },
   "source": [
    "### Reward Distribution"
   ]
  },
  {
   "cell_type": "code",
   "execution_count": 74,
   "id": "f3a2d6f5-8c25-4c94-951e-6bf1e89f3809",
   "metadata": {},
   "outputs": [
    {
     "data": {
      "image/png": "[encoded data removed]",
      "text/plain": [
       "<Figure size 432x288 with 1 Axes>"
      ]
     },
     "metadata": {
      "needs_background": "light"
     },
     "output_type": "display_data"
    }
   ],
   "source": [
    "mu = 0\n",
    "variance = 3\n",
    "sigma = math.sqrt(variance)\n",
    "\n",
    "x = np.linspace(mu - 3*sigma, mu + 3*sigma, 100)\n",
    "plt.plot(x, norm.pdf(x, mu, sigma))\n",
    "plt.show()"
   ]
  },
  {
   "cell_type": "markdown",
   "id": "c216d6d2-c4a2-471f-8405-454c1cf3228b",
   "metadata": {
    "tags": []
   },
   "source": [
    "### Interface class"
   ]
  },
  {
   "cell_type": "code",
   "execution_count": 75,
   "id": "a9d40709-8d98-4576-97a6-0f7b4a9f7be5",
   "metadata": {},
   "outputs": [],
   "source": [
    "class MAB(ABC):\n",
    "    def __init__(self, arms):\n",
    "        self.arms = arms\n",
    "        self.means = np.random.normal(0, 3, arms)\n",
    "        self.var = 1\n",
    "        \n",
    "    @abstractmethod\n",
    "    def pull(self):\n",
    "        pass\n",
    "    \n",
    "    def run_experiment(self, iterations):\n",
    "        mean_rewards_timestep = np.empty(iterations)\n",
    "        \n",
    "        mean_reward = 0\n",
    "        for i in range(iterations):\n",
    "            reward = self.pull()\n",
    "            n = i + 1\n",
    "            mean_reward = mean_reward + (reward - mean_reward) / n\n",
    "            mean_rewards_timestep[i] = mean_reward\n",
    "        \n",
    "        return mean_rewards_timestep"
   ]
  },
  {
   "cell_type": "markdown",
   "id": "55dfa065-abb8-4a65-9fcd-ef7a0f10b28f",
   "metadata": {
    "tags": []
   },
   "source": [
    "### Epsilon Greedy"
   ]
  },
  {
   "cell_type": "code",
   "execution_count": 76,
   "id": "6bbf80fc-f05f-4bad-b8cf-92fc822c08f4",
   "metadata": {},
   "outputs": [],
   "source": [
    "class EpsilonGreedy(MAB):\n",
    "    def __init__(self, arms, epsilon, q1 = 0):\n",
    "        super().__init__(arms)\n",
    "        self.epsilon = epsilon\n",
    "        self.q1 = q1\n",
    "        self.mean_rewards = np.full(arms, q1)\n",
    "        self.num_runs = np.zeros(arms)\n",
    "        \n",
    "    def __str__(self):\n",
    "        info = f\"arms = {self.arms}\\n\"\n",
    "        info += f\"ε = {self.epsilon}\\n\"\n",
    "        info += f\"Q1 = {self.q1}\\n\"\n",
    "        info += f\"mean rewards / arm = {self.mean_rewards}\\n\"\n",
    "        info += f\"number of runs / arm = {self.num_runs}\\n\"\n",
    "        info += \"\\n\"\n",
    "        return info\n",
    "    \n",
    "    def pull(self):\n",
    "        # Choose Action\n",
    "        p = np.random.random()\n",
    "        if (p < self.epsilon):\n",
    "            action = np.random.choice(self.arms)\n",
    "        else:\n",
    "            action = np.argmax(self.mean_rewards)\n",
    "            \n",
    "        # Get reward\n",
    "        reward = np.random.normal(self.means[action], self.var)\n",
    "        \n",
    "        # Update model\n",
    "        self.num_runs[action] += 1\n",
    "        self.mean_rewards[action] = self.mean_rewards[action] + (reward - self.mean_rewards[action]) / self.num_runs[action]\n",
    "        \n",
    "        return reward"
   ]
  },
  {
   "cell_type": "markdown",
   "id": "fddcc584-a5d7-4eae-bf98-8d10776080bb",
   "metadata": {
    "tags": []
   },
   "source": [
    "### Upper Confidence Bounds (UCB)"
   ]
  },
  {
   "cell_type": "code",
   "execution_count": 77,
   "id": "705f2bcf-6a7c-4c6b-b386-7889e973ee97",
   "metadata": {
    "tags": []
   },
   "outputs": [],
   "source": [
    "class UCB(MAB):\n",
    "    def __init__(self, arms, c):\n",
    "        super().__init__(arms)\n",
    "        self.c = c\n",
    "        self.mean_rewards = np.zeros(arms)\n",
    "        self.num_runs = np.zeros(arms)\n",
    "        self.t = 1\n",
    "        \n",
    "    def get_max_arm(self):\n",
    "        max_upper_bound, max_arm = 0, -1\n",
    "        for arm in range(self.arms):\n",
    "            upper_bound = self.mean_rewards[arm] + math.sqrt(math.log(self.t) / self.num_runs[arm]) if self.num_runs[arm] > 0 else float('inf') \n",
    "        \n",
    "            if upper_bound > max_upper_bound:\n",
    "                max_upper_bound = upper_bound\n",
    "                max_arm = arm\n",
    "                \n",
    "        return (max_upper_bound, max_arm)\n",
    "        \n",
    "    def pull(self):\n",
    "        # Choose action\n",
    "        _, max_arm = self.get_max_arm()\n",
    "        \n",
    "        if max_arm == -1:\n",
    "            raise Exception(\"No arm was selected!!\")\n",
    "        \n",
    "        # Get reward\n",
    "        reward = np.random.normal(self.means[max_arm], self.var)\n",
    "        \n",
    "        # Update model\n",
    "        self.mean_rewards[max_arm] = (self.mean_rewards[max_arm] * self.num_runs[max_arm] + reward) / (self.num_runs[max_arm] + 1)\n",
    "        self.num_runs[max_arm] += 1\n",
    "        \n",
    "        self.t += 1\n",
    "        \n",
    "        return reward"
   ]
  },
  {
   "cell_type": "markdown",
   "id": "0224f09a-4cf7-485a-8307-805159657c67",
   "metadata": {
    "tags": []
   },
   "source": [
    "### Rewards over time"
   ]
  },
  {
   "cell_type": "code",
   "execution_count": 78,
   "id": "55ad8391-90fd-45b5-a0db-413f22d83cc4",
   "metadata": {},
   "outputs": [
    {
     "data": {
      "image/png": "[encoded data removed]",
      "text/plain": [
       "<Figure size 432x288 with 1 Axes>"
      ]
     },
     "metadata": {
      "needs_background": "light"
     },
     "output_type": "display_data"
    }
   ],
   "source": [
    "runs = 100\n",
    "iterations = 1000\n",
    "timesteps = np.arange(iterations)\n",
    "\n",
    "epsilon_greedy_results = []\n",
    "optimistic_init_results = []\n",
    "ucb_results = []\n",
    "\n",
    "for r in range(runs):\n",
    "    eg = EpsilonGreedy(arms = 10, epsilon = 0.1)\n",
    "    epsilon_greedy_results.append(eg.run_experiment(iterations))\n",
    "    \n",
    "    \n",
    "    og = EpsilonGreedy(arms = 10, epsilon = 0, q1 = 5)\n",
    "    optimistic_init_results.append(og.run_experiment(iterations))\n",
    "    \n",
    "    \n",
    "    ucb = UCB(arms = 10, c = 2)\n",
    "    ucb_results.append(ucb.run_experiment(iterations))\n",
    "\n",
    "plt.plot(timesteps, np.mean(epsilon_greedy_results, axis=0), label = 'ε = 0.1')\n",
    "plt.plot(timesteps, np.mean(optimistic_init_results, axis=0), label = 'Q1 = 5')\n",
    "plt.plot(timesteps, np.mean(ucb_results, axis=0), label = 'c = 2')\n",
    "\n",
    "plt.ylabel('Mean rewards')\n",
    "plt.xlabel('Timesteps')\n",
    "\n",
    "plt.legend()\n",
    "plt.show()"
   ]
  },
  {
   "cell_type": "markdown",
   "id": "cbd3dcb2-c5d1-466e-9f3c-2cd0442a373d",
   "metadata": {},
   "source": [
    "### Summary comparison"
   ]
  },
  {
   "cell_type": "code",
   "execution_count": 79,
   "id": "90221b3a-cb6d-4e61-9670-ae5c7943480f",
   "metadata": {},
   "outputs": [
    {
     "data": {
      "image/png": "[encoded data removed]",
      "text/plain": [
       "<Figure size 432x288 with 1 Axes>"
      ]
     },
     "metadata": {
      "needs_background": "light"
     },
     "output_type": "display_data"
    }
   ],
   "source": [
    "runs = 100\n",
    "iterations = 1000\n",
    "\n",
    "epsilon_greedy_results = []\n",
    "epsilon_greedy_x = []\n",
    "for exp in range(-7, -1):\n",
    "    e = 2 ** exp\n",
    "    \n",
    "    means = []\n",
    "    for r in range(runs):\n",
    "        eg = EpsilonGreedy(arms = 10, epsilon = e)\n",
    "        means.append(eg.run_experiment(iterations)[-1])\n",
    "        \n",
    "    epsilon_greedy_results.append(np.mean(means))\n",
    "    epsilon_greedy_x.append(e)\n",
    "    \n",
    "optimistic_init_results = []\n",
    "optimistic_init_x = []\n",
    "for exp in range(-2, 5):\n",
    "    q = 2 ** exp\n",
    "    \n",
    "    means = []\n",
    "    for r in range(runs):\n",
    "        eg = EpsilonGreedy(arms = 10, epsilon = 0, q1 = q)\n",
    "        means.append(eg.run_experiment(iterations)[-1])\n",
    "        \n",
    "    optimistic_init_results.append(np.mean(means))\n",
    "    optimistic_init_x.append(q)\n",
    "\n",
    "ucb_results = []\n",
    "ucb_x = []\n",
    "for exp in range(0, 5):\n",
    "    c = 2 ** exp\n",
    "    \n",
    "    means = []\n",
    "    for r in range(runs):\n",
    "        ucb = UCB(arms = 10, c = c)\n",
    "        means.append(ucb.run_experiment(iterations)[-1])\n",
    "        \n",
    "    ucb_results.append(np.mean(means))\n",
    "    ucb_x.append(c)\n",
    "\n",
    "plt.plot(epsilon_greedy_x, epsilon_greedy_results, label = 'ε-greedy')\n",
    "plt.plot(optimistic_init_x, optimistic_init_results, label = 'optimistic initialization')\n",
    "plt.plot(ucb_x, ucb_results, label = 'UCB')\n",
    "\n",
    "plt.ylabel('Mean rewards over first 1000 steps')\n",
    "plt.xlabel('ε / c / Q1')\n",
    "plt.xscale('log', base=2)\n",
    "\n",
    "plt.legend()\n",
    "plt.show()"
   ]
  }
 ],
 "metadata": {
  "interpreter": {
   "hash": "26de051ba29f2982a8de78e945f0abaf191376122a1563185a90213a26c5da77"
  },
  "kernelspec": {
   "display_name": "Python 3 (ipykernel)",
   "language": "python",
   "name": "python3"
  },
  "language_info": {
   "codemirror_mode": {
    "name": "ipython",
    "version": 3
   },
   "file_extension": ".py",
   "mimetype": "text/x-python",
   "name": "python",
   "nbconvert_exporter": "python",
   "pygments_lexer": "ipython3",
   "version": "3.10.4"
  }
 },
 "nbformat": 4,
 "nbformat_minor": 5
}
