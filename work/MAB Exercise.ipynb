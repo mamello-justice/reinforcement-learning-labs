{
 "cells": [
  {
   "cell_type": "markdown",
   "id": "4f72c294-866f-453c-b882-5c4bce7113b2",
   "metadata": {},
   "source": [
    "# COMS4061A - Reinforcement Learning\n",
    "\n",
    "## Multi-Armed Bandits - Exercise"
   ]
  },
  {
   "cell_type": "markdown",
   "id": "920a1569-e62b-4371-8116-fcb2d0200e33",
   "metadata": {},
   "source": [
    "### Imports"
   ]
  },
  {
   "cell_type": "code",
   "execution_count": 22,
   "id": "e967a0cd-2308-4e69-8587-8f8f4311d03b",
   "metadata": {},
   "outputs": [],
   "source": [
    "import numpy as np\n",
    "import matplotlib.pyplot as plt\n",
    "from abc import ABC, abstractmethod\n",
    "%matplotlib inline"
   ]
  },
  {
   "cell_type": "markdown",
   "id": "c216d6d2-c4a2-471f-8405-454c1cf3228b",
   "metadata": {},
   "source": [
    "### Interface class"
   ]
  },
  {
   "cell_type": "code",
   "execution_count": 31,
   "id": "a9d40709-8d98-4576-97a6-0f7b4a9f7be5",
   "metadata": {},
   "outputs": [],
   "source": [
    "class MAB(ABC):\n",
    "    def __init__(self, arms):\n",
    "        self.arms = arms\n",
    "        self.means = np.random.normal(0, 3, arms)\n",
    "        self.var = 1\n",
    "        \n",
    "    @abstractmethod\n",
    "    def pull(self):\n",
    "        pass\n",
    "    \n",
    "    @abstractmethod\n",
    "    def run_experiment(self, iterations):\n",
    "        pass"
   ]
  },
  {
   "cell_type": "markdown",
   "id": "55dfa065-abb8-4a65-9fcd-ef7a0f10b28f",
   "metadata": {
    "tags": []
   },
   "source": [
    "### Epsilon Greedy"
   ]
  },
  {
   "cell_type": "code",
   "execution_count": 45,
   "id": "6bbf80fc-f05f-4bad-b8cf-92fc822c08f4",
   "metadata": {},
   "outputs": [
    {
     "data": {
      "image/png": "[encoded data removed]",
      "text/plain": [
       "<Figure size 432x288 with 1 Axes>"
      ]
     },
     "metadata": {
      "needs_background": "light"
     },
     "output_type": "display_data"
    }
   ],
   "source": [
    "class EpsilonGreedy(MAB):\n",
    "    def __init__(self, arms, epsilon):\n",
    "        super().__init__(arms)\n",
    "        self.epsilon = epsilon\n",
    "        self.mean_rewards = np.zeros(arms)\n",
    "        self.num_runs = np.zeros(arms)\n",
    "    \n",
    "    def pull(self):\n",
    "        # Choose Action\n",
    "        p = np.random.random()\n",
    "        if (p < self.epsilon):\n",
    "            action = np.random.choice(self.arms)\n",
    "        else:\n",
    "            action = np.argmax(self.mean_rewards)\n",
    "            \n",
    "        # Get reward\n",
    "        reward = np.random.normal(self.means[action], self.var)\n",
    "        \n",
    "        # Update Q(a)\n",
    "        self.num_runs[action] += 1\n",
    "        self.mean_rewards[action] = self.mean_rewards[action] + (reward - self.mean_rewards[action]) / self.num_runs[action]\n",
    "        \n",
    "        return reward\n",
    "        \n",
    "    def __str__(self):\n",
    "        info = f\"arms = {self.arms}\\n\"\n",
    "        info += f\"ε = {self.epsilon}\\n\"\n",
    "        info += f\"mean rewards / arm = {self.mean_rewards}\\n\"\n",
    "        info += f\"number of runs / arm = {self.num_runs}\\n\"\n",
    "        info += f\"rewards / timestep = {self.rewards}\"\n",
    "        info += \"\\n\"\n",
    "        return info\n",
    "        \n",
    "    def run_experiment(self, iterations):\n",
    "        timesteps = np.arange(iterations)\n",
    "        mean_rewards_timestep = np.empty(iterations)\n",
    "        \n",
    "        mean_reward = 0\n",
    "        for i in timesteps:\n",
    "            reward = self.pull()\n",
    "            n = i + 1\n",
    "            mean_reward = mean_reward + (reward - mean_reward) / n\n",
    "            mean_rewards_timestep[i] = mean_reward\n",
    "        \n",
    "        plt.plot(timesteps, mean_rewards_timestep)\n",
    "        plt.show()\n",
    "        \n",
    "a = EpsilonGreedy(arms = 10, epsilon = 0.1)\n",
    "a.run_experiment(1000)"
   ]
  },
  {
   "cell_type": "markdown",
   "id": "3e078750-df93-49b5-980f-fb569c5988a4",
   "metadata": {
    "jp-MarkdownHeadingCollapsed": true,
    "tags": []
   },
   "source": [
    "### Greedy with Optimistic initialisation"
   ]
  },
  {
   "cell_type": "code",
   "execution_count": 29,
   "id": "a53cec94-4eee-4d05-8b18-cefc99baac16",
   "metadata": {},
   "outputs": [
    {
     "name": "stdout",
     "output_type": "stream",
     "text": [
      "10 5\n",
      "[ 1.54073213 -5.46080681  0.39808777 -2.14767499 -4.13280584  1.84988562\n",
      " -4.60029983  2.18456377 -4.28027606  1.97812968]\n",
      "1\n"
     ]
    }
   ],
   "source": [
    "class OptimisticGreedy(MAB):\n",
    "    def __init__(self, arms, q1):\n",
    "        super().__init__(arms)\n",
    "        self.q = q1\n",
    "        \n",
    "    def pull(self):\n",
    "        print(self.arms, self.q)\n",
    "        print(self.means)\n",
    "        print(self.var)\n",
    "        \n",
    "a = OptimisticGreedy(arms = 10, q1 = 5)\n",
    "a.pull()"
   ]
  },
  {
   "cell_type": "markdown",
   "id": "fddcc584-a5d7-4eae-bf98-8d10776080bb",
   "metadata": {
    "jp-MarkdownHeadingCollapsed": true,
    "tags": []
   },
   "source": [
    "### Upper Confidence Bounds (UCB)"
   ]
  },
  {
   "cell_type": "code",
   "execution_count": 30,
   "id": "705f2bcf-6a7c-4c6b-b386-7889e973ee97",
   "metadata": {},
   "outputs": [
    {
     "name": "stdout",
     "output_type": "stream",
     "text": [
      "10 2\n",
      "[ 1.105628    3.07404851  0.13551224 -0.27540843  1.40155769 -0.20467412\n",
      "  2.80415237  2.59470506  0.88126527  6.55135081]\n",
      "1\n"
     ]
    }
   ],
   "source": [
    "class UCB(MAB):\n",
    "    def __init__(self, arms, c):\n",
    "        super().__init__(arms)\n",
    "        self.c = c\n",
    "        \n",
    "    def pull(self):\n",
    "        print(self.arms, self.c)\n",
    "        print(self.means)\n",
    "        print(self.var)\n",
    "        \n",
    "a = UCB(arms = 10, c = 2)\n",
    "a.pull()"
   ]
  }
 ],
 "metadata": {
  "kernelspec": {
   "display_name": "Python 3 (ipykernel)",
   "language": "python",
   "name": "python3"
  },
  "language_info": {
   "codemirror_mode": {
    "name": "ipython",
    "version": 3
   },
   "file_extension": ".py",
   "mimetype": "text/x-python",
   "name": "python",
   "nbconvert_exporter": "python",
   "pygments_lexer": "ipython3",
   "version": "3.10.4"
  }
 },
 "nbformat": 4,
 "nbformat_minor": 5
}
