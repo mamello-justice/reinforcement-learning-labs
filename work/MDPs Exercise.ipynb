{
 "cells": [
  {
   "cell_type": "markdown",
   "id": "f0582930-26c4-4bda-bb69-e7f61a075e7c",
   "metadata": {},
   "source": [
    "# COMS4061A - Reinforcement Learning\n",
    "\n",
    "## Markov Decision Processes\n",
    "\n",
    "- Mamello Seboholi [1851317]"
   ]
  },
  {
   "cell_type": "markdown",
   "id": "5a7b75c1",
   "metadata": {},
   "source": [
    "### Imports"
   ]
  },
  {
   "cell_type": "code",
   "execution_count": 178,
   "id": "2c0ce9ac",
   "metadata": {},
   "outputs": [],
   "source": [
    "import numpy as np\n",
    "import matplotlib.pyplot as plt"
   ]
  },
  {
   "cell_type": "markdown",
   "id": "e9e5bf8b",
   "metadata": {},
   "source": [
    "### Utils"
   ]
  },
  {
   "cell_type": "code",
   "execution_count": 147,
   "id": "dfb7416e",
   "metadata": {},
   "outputs": [],
   "source": [
    "Position = tuple[int, int]\n",
    "Rewards = list[list[int]]\n",
    "\n",
    "def get_value(array, x, y, default = None):\n",
    "    if x < 0 or y < 0:\n",
    "        return default\n",
    "\n",
    "    if x >= len(array):\n",
    "        return default\n",
    "\n",
    "    row = array[x]\n",
    "\n",
    "    if y >= len(array):\n",
    "        return default\n",
    "\n",
    "    return row[y]\n",
    "\n",
    "def get_accumulated_returns(rewards: list[int], gamma: int = 1):\n",
    "    returns = 0\n",
    "    for i, reward in enumerate(rewards):\n",
    "        returns += reward * (gamma ** i)\n",
    "    return returns"
   ]
  },
  {
   "cell_type": "markdown",
   "id": "ceef8e38",
   "metadata": {},
   "source": [
    "### Action"
   ]
  },
  {
   "cell_type": "code",
   "execution_count": 121,
   "id": "88dbc28e",
   "metadata": {},
   "outputs": [],
   "source": [
    "class Action:\n",
    "    def __init__(self, x_modifier, y_modifier, desc = \"Action\"):\n",
    "        self.x_modifier = x_modifier\n",
    "        self.y_modifier = y_modifier\n",
    "        self.desc = desc\n",
    "\n",
    "    def __repr__(self):\n",
    "        return f\"{self.desc}\"\n",
    "\n",
    "    def get_new_position(self, x: int, y: int) -> Position:\n",
    "        return self.x_modifier(x), self.y_modifier(y)\n",
    "\n",
    "UP = Action(lambda x: x, lambda y: y-1 , desc=\"UP\")\n",
    "RIGHT = Action(lambda x: x+1, lambda y: y, desc=\"RIGHT\")\n",
    "DOWN = Action(lambda x: x, lambda y: y+1, desc=\"DOWN\")\n",
    "LEFT = Action(lambda x: x-1, lambda y: y, desc=\"LEFT\")"
   ]
  },
  {
   "cell_type": "markdown",
   "id": "5e1acc84",
   "metadata": {},
   "source": [
    "### State"
   ]
  },
  {
   "cell_type": "code",
   "execution_count": 49,
   "id": "e83548df",
   "metadata": {},
   "outputs": [],
   "source": [
    "class State:\n",
    "    def __init__(self, x, y, actions):\n",
    "        self.x = x\n",
    "        self.y = y\n",
    "        self.actions = actions\n",
    "\n",
    "    def __repr__(self):\n",
    "        return f\"\\n[y={self.y}][x={self.x}] actions: {[str(action) for action in self.actions]}\"\n",
    "    \n",
    "States = list[list[State]]\n",
    "    \n",
    "def get_states_from_world(world) -> States:\n",
    "    states = []\n",
    "    for i, row in enumerate(world):\n",
    "        states_row = []\n",
    "        for j, cell in enumerate(row):\n",
    "            actions = []\n",
    "            # Terminating State\n",
    "            if (cell == 1):\n",
    "                states_row.append(State(j, i, actions))\n",
    "                continue\n",
    "            \n",
    "            # Up\n",
    "            if (get_value(world, i-1, j, -1) != -1):\n",
    "                actions.append(UP)\n",
    "\n",
    "            # Right\n",
    "            if (get_value(world, i, j+1, -1) != -1):\n",
    "                actions.append(RIGHT)\n",
    "\n",
    "            # Down\n",
    "            if (get_value(world, i+1, j, -1) != -1):\n",
    "                actions.append(DOWN)\n",
    "\n",
    "            # Left\n",
    "            if (get_value(world, i, j-1, -1) != -1):\n",
    "                actions.append(LEFT)\n",
    "\n",
    "            states_row.append(State(j, i, actions))\n",
    "        states.append(states_row)\n",
    "    return states"
   ]
  },
  {
   "cell_type": "markdown",
   "id": "ca74ee6b",
   "metadata": {},
   "source": [
    "### MPD"
   ]
  },
  {
   "cell_type": "code",
   "execution_count": 43,
   "id": "39b5baf3",
   "metadata": {},
   "outputs": [],
   "source": [
    "class MDP:\n",
    "    def __init__(self, states: States, rewards: Rewards):\n",
    "        self.states = states\n",
    "        self.rewards = rewards\n",
    "\n",
    "    def __str__(self):\n",
    "        value = \"[\\n\"\n",
    "        for i, states_row in enumerate(self.states):\n",
    "            value += \"\\t[\\n\"\n",
    "            for j, state in enumerate(states_row):\n",
    "                value += f\"\\t\\t{str(state)}{',' if j == len(states_row) -1 else ''}\\n\"\n",
    "            value += f\"\\t]{',' if i == len(self.states) -1 else ''}\\n\"\n",
    "\n",
    "        return f\"{self.states}\"\n",
    "\n",
    "    def get_state(self, x: int, y: int):\n",
    "        return self.states[y][x]\n",
    "    \n",
    "    def step(self, state: State, action: Action) -> tuple[State, int]:\n",
    "        next_x, next_y = action.get_new_position(x=state.x, y=state.y)\n",
    "        return self.get_state(x=next_x, y=next_y), self.rewards[next_y][next_x]"
   ]
  },
  {
   "cell_type": "markdown",
   "id": "a30b202a",
   "metadata": {},
   "source": [
    "### Agent"
   ]
  },
  {
   "cell_type": "code",
   "execution_count": 156,
   "id": "8562bc15",
   "metadata": {},
   "outputs": [],
   "source": [
    "class Agent:\n",
    "    def __init__(self, mdp: MDP):\n",
    "        self.mdp = mdp\n",
    "        self.state_trajectory = []\n",
    "        self.action_trajectory = []\n",
    "        self.reward_trajectory = []\n",
    "    \n",
    "    def run(self, start: tuple[int, int], max_steps: int, policy_func = None):\n",
    "        start_y, start_x = start\n",
    "        state = self.mdp.get_state(start_x, start_y)\n",
    "        \n",
    "        for i in range(max_steps):\n",
    "            self.state_trajectory.append(state)\n",
    "            \n",
    "            actions = state.actions\n",
    "            \n",
    "            # Terminating State\n",
    "            if len(actions) == 0:\n",
    "                break\n",
    "                \n",
    "            action = np.random.choice(actions) if policy_func == None else policy_func(state)\n",
    "            self.action_trajectory.append(action)\n",
    "            \n",
    "            state, reward = self.mdp.step(state, action)\n",
    "            self.reward_trajectory.append(reward)"
   ]
  },
  {
   "cell_type": "markdown",
   "id": "84cf8762",
   "metadata": {},
   "source": [
    "### World Map\n",
    "\n",
    "- 7x7 grid"
   ]
  },
  {
   "cell_type": "code",
   "execution_count": 192,
   "id": "cab053fe",
   "metadata": {},
   "outputs": [
    {
     "name": "stdout",
     "output_type": "stream",
     "text": [
      "Random\n",
      "[UP, RIGHT, DOWN, UP, LEFT, DOWN, RIGHT, RIGHT, LEFT, LEFT, RIGHT, LEFT, UP, RIGHT, UP, LEFT, RIGHT, RIGHT, RIGHT, DOWN, RIGHT, DOWN, UP, UP, DOWN, RIGHT, LEFT, LEFT, RIGHT, LEFT, UP, DOWN, LEFT, DOWN, UP, RIGHT, UP, DOWN, RIGHT, DOWN, LEFT, UP, LEFT, DOWN, UP, UP, UP, RIGHT, DOWN, UP]\n",
      "\n",
      "Greedy\n",
      "[RIGHT, RIGHT, RIGHT, RIGHT, RIGHT, RIGHT, UP, UP, UP, UP, UP, UP, LEFT, LEFT, LEFT, LEFT, LEFT, LEFT]\n",
      "\n"
     ]
    },
    {
     "data": {
      "image/png": "[encoded data removed]",
      "text/plain": [
       "<Figure size 432x288 with 1 Axes>"
      ]
     },
     "metadata": {
      "needs_background": "light"
     },
     "output_type": "display_data"
    }
   ],
   "source": [
    "world = [[ 1, 0, 0, 0, 0, 0, 0],\n",
    "        [ 0, 0, 0, 0, 0, 0, 0 ],\n",
    "        [ -1, -1, -1, -1, -1, -1, 0 ],\n",
    "        [ 0, 0, 0, 0, 0, 0, 0 ],\n",
    "        [ 0, 0, 0, 0, 0, 0, 0 ],\n",
    "        [ 0, 0, 0, 0, 0, 0, 0 ],\n",
    "        [ 0, 0, 0, 0, 0, 0, 0 ]]\n",
    "\n",
    "rewards = np.full((7, 7), -1)\n",
    "rewards[0][0] = 20\n",
    "\n",
    "states = get_states_from_world(world)\n",
    "mdp = MDP(states, rewards)\n",
    "runs = 20\n",
    "\n",
    "def policy_func(state: State):\n",
    "    if state.y == 0:\n",
    "        return LEFT\n",
    "    if state.y == 1:\n",
    "        return UP\n",
    "    if state.x == 6:\n",
    "        return UP\n",
    "    return RIGHT\n",
    "\n",
    "random_agent_returns = []\n",
    "for i in range(runs):\n",
    "    random_agent = Agent(mdp)\n",
    "    random_agent.run(start=(6, 0), max_steps=50)\n",
    "    random_agent_returns.append(get_accumulated_returns(random_agent.reward_trajectory))\n",
    "    \n",
    "    if i == 0:\n",
    "        print(f\"Random\\n{random_agent.action_trajectory}\\n\")\n",
    "\n",
    "greedy_agent_returns = []\n",
    "for i in range(runs):\n",
    "    greedy_agent = Agent(mdp)\n",
    "    greedy_agent.run(start=(6, 0), max_steps=50, policy_func=policy_func)\n",
    "    greedy_agent_returns.append(get_accumulated_returns(greedy_agent.reward_trajectory))\n",
    "    \n",
    "    if i == 0:\n",
    "        print(f\"Greedy\\n{greedy_agent.action_trajectory}\\n\")\n",
    "\n",
    "names = [\"Random agent\", \"Greedy agent\"]\n",
    "values = [np.mean(random_agent_returns), np.mean(greedy_agent_returns)]\n",
    "\n",
    "plt.bar(names, values)\n",
    "plt.ylim([-100, 100])\n",
    "plt.ylabel(\"Accumulated returns\")\n",
    "plt.title(f\"Accumulated returns averaged over {runs} runs\")\n",
    "\n",
    "plt.show()\n"
   ]
  }
 ],
 "metadata": {
  "interpreter": {
   "hash": "faade8e7af46052c07bca6f5ff0845d7425bd89182e4a8c58edae0657a1fed45"
  },
  "kernelspec": {
   "display_name": "Python 3 (ipykernel)",
   "language": "python",
   "name": "python3"
  },
  "language_info": {
   "codemirror_mode": {
    "name": "ipython",
    "version": 3
   },
   "file_extension": ".py",
   "mimetype": "text/x-python",
   "name": "python",
   "nbconvert_exporter": "python",
   "pygments_lexer": "ipython3",
   "version": "3.10.5"
  },
  "vscode": {
   "interpreter": {
    "hash": "faade8e7af46052c07bca6f5ff0845d7425bd89182e4a8c58edae0657a1fed45"
   }
  }
 },
 "nbformat": 4,
 "nbformat_minor": 5
}
