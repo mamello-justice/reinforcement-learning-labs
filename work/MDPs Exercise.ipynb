{
 "cells": [
  {
   "cell_type": "markdown",
   "id": "f0582930-26c4-4bda-bb69-e7f61a075e7c",
   "metadata": {},
   "source": [
    "# COMS4061A - Reinforcement Learning\n",
    "\n",
    "## Markov Decision Processes\n",
    "\n",
    "- Mamello Seboholi [1851317]"
   ]
  },
  {
   "cell_type": "markdown",
   "id": "5a7b75c1",
   "metadata": {},
   "source": [
    "### Imports"
   ]
  },
  {
   "cell_type": "code",
   "execution_count": 1,
   "id": "2c0ce9ac",
   "metadata": {},
   "outputs": [],
   "source": [
    "import numpy as np"
   ]
  },
  {
   "cell_type": "markdown",
   "id": "e9e5bf8b",
   "metadata": {},
   "source": [
    "### Utils"
   ]
  },
  {
   "cell_type": "code",
   "execution_count": 2,
   "id": "dfb7416e",
   "metadata": {},
   "outputs": [],
   "source": [
    "def get_value(array, x, y, default = None):\n",
    "    if x < 0 or y < 0:\n",
    "        return default\n",
    "\n",
    "    if x >= len(array):\n",
    "        return default\n",
    "\n",
    "    row = array[x]\n",
    "\n",
    "    if y >= len(array):\n",
    "        return default\n",
    "\n",
    "    return row[y]"
   ]
  },
  {
   "cell_type": "markdown",
   "id": "ceef8e38",
   "metadata": {},
   "source": [
    "### Action"
   ]
  },
  {
   "cell_type": "code",
   "execution_count": 20,
   "id": "88dbc28e",
   "metadata": {},
   "outputs": [],
   "source": [
    "class Action:\n",
    "    def __init__(self, x_modifier, y_modifier, desc = \"Action\"):\n",
    "        self.x_modifier = x_modifier\n",
    "        self.y_modifier = y_modifier\n",
    "        self.desc = desc\n",
    "\n",
    "    def __str__(self):\n",
    "        return f\"{self.desc}\"\n",
    "\n",
    "    def get_new_position(self, x, y):\n",
    "        return self.x_modifier(x), self.y_modifier(y)\n",
    "\n",
    "UP = Action(lambda x: x, lambda y: y-1 , desc=\"UP\")\n",
    "RIGHT = Action(lambda x: x+1, lambda y: y, desc=\"RIGHT\")\n",
    "DOWN = Action(lambda x: x, lambda y: y+1, desc=\"DOWN\")\n",
    "LEFT = Action(lambda x: x-1, lambda y: y, desc=\"LEFT\")"
   ]
  },
  {
   "cell_type": "markdown",
   "id": "5e1acc84",
   "metadata": {},
   "source": [
    "### State"
   ]
  },
  {
   "cell_type": "code",
   "execution_count": 28,
   "id": "e83548df",
   "metadata": {},
   "outputs": [],
   "source": [
    "class State:\n",
    "    def __init__(self, x, y, actions):\n",
    "        self.x = x\n",
    "        self.y = y\n",
    "        self.actions = actions\n",
    "\n",
    "    def __repr__(self):\n",
    "        return f\"[{self.x}][{self.y}] actions: {[str(action) for action in self.actions]}\"\n",
    "\n",
    "    def get_actions(self):\n",
    "        return self.actions"
   ]
  },
  {
   "cell_type": "markdown",
   "id": "ca74ee6b",
   "metadata": {},
   "source": [
    "### MPD"
   ]
  },
  {
   "cell_type": "code",
   "execution_count": 31,
   "id": "39b5baf3",
   "metadata": {},
   "outputs": [],
   "source": [
    "class MDP:\n",
    "    def __init__(self, world):\n",
    "        self.states = MDP.get_states_from_world(world)\n",
    "\n",
    "    def __str__(self):\n",
    "        return f\"{self.states}\"\n",
    "\n",
    "    def get_state(self, x, y):\n",
    "        return self.states[y][x]\n",
    "\n",
    "    @staticmethod\n",
    "    def get_states_from_world(world):\n",
    "        states = []\n",
    "        for i, row in enumerate(world):\n",
    "            states_row = []\n",
    "            for j, cell in enumerate(row):\n",
    "                actions = []\n",
    "                # Up\n",
    "                if (get_value(world, i-1, j, -1) != -1):\n",
    "                    actions.append(UP)\n",
    "\n",
    "                # Right\n",
    "                if (get_value(world, i, j+1, -1) != -1):\n",
    "                    actions.append(RIGHT)\n",
    "\n",
    "                # Down\n",
    "                if (get_value(world, i+1, j, -1) != -1):\n",
    "                    actions.append(DOWN)\n",
    "\n",
    "                # Left\n",
    "                if (get_value(world, i, j-1, -1) != -1):\n",
    "                    actions.append(LEFT)\n",
    "\n",
    "                states_row.append(State(j, i, actions))\n",
    "            states.append(states_row)\n",
    "        return states"
   ]
  },
  {
   "cell_type": "markdown",
   "id": "84cf8762",
   "metadata": {},
   "source": [
    "### World Map\n",
    "\n",
    "- 7x7 grid"
   ]
  },
  {
   "cell_type": "code",
   "execution_count": 33,
   "id": "cab053fe",
   "metadata": {},
   "outputs": [
    {
     "name": "stdout",
     "output_type": "stream",
     "text": [
      "[6][1] actions: ['UP', 'DOWN', 'LEFT']\n"
     ]
    }
   ],
   "source": [
    "world = [[ 0, 0, 0, 0, 0, 0, 0],\n",
    "        [ 0, 0, 0, 0, 0, 0, 0 ],\n",
    "        [ -1, -1, -1, -1, -1, -1, 0 ],\n",
    "        [ 0, 0, 0, 0, 0, 0, 0 ],\n",
    "        [ 0, 0, 0, 0, 0, 0, 0 ],\n",
    "        [ 0, 0, 0, 0, 0, 0, 0 ],\n",
    "        [ 0, 0, 0, 0, 0, 0, 0 ]]\n",
    "\n",
    "mdp = MDP(world)\n",
    "\n",
    "print(mdp.get_state(x=6, y=1))"
   ]
  }
 ],
 "metadata": {
  "kernelspec": {
   "display_name": "Python 3.10.4 ('.venv': venv)",
   "language": "python",
   "name": "python3"
  },
  "language_info": {
   "codemirror_mode": {
    "name": "ipython",
    "version": 3
   },
   "file_extension": ".py",
   "mimetype": "text/x-python",
   "name": "python",
   "nbconvert_exporter": "python",
   "pygments_lexer": "ipython3",
   "version": "3.10.4"
  },
  "vscode": {
   "interpreter": {
    "hash": "faade8e7af46052c07bca6f5ff0845d7425bd89182e4a8c58edae0657a1fed45"
   }
  }
 },
 "nbformat": 4,
 "nbformat_minor": 5
}
